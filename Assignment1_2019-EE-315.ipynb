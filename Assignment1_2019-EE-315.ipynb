{
 "cells": [
  {
   "cell_type": "code",
   "execution_count": 2,
   "metadata": {},
   "outputs": [
    {
     "name": "stdout",
     "output_type": "stream",
     "text": [
      "Using traditional looping technique.\n",
      "586 ms ± 32.2 ms per loop (mean ± std. dev. of 7 runs, 1 loop each)\n",
      "\n",
      "\n",
      "Using vectorizational technique.\n",
      "55.5 ms ± 1.13 ms per loop (mean ± std. dev. of 7 runs, 10 loops each)\n"
     ]
    }
   ],
   "source": [
    "# Ahmad Hassan \n",
    "# 2019-EE-315\n",
    "\n",
    "# for finding euclidean distance using loops \n",
    "def eucld_dis_loops(a):\n",
    "    n = len(a)\n",
    "    d = len(a[0])\n",
    "    b = np.zeros((n,n))\n",
    "    for i in range(n):\n",
    "        for j in range(n):\n",
    "            for k in range(d):\n",
    "                b[i][j] += ((a[i][k]-a[j][k])**2)\n",
    "            b[i][j] = mt.sqrt(b[i][j])\n",
    "    return b\n",
    "\n",
    "\n",
    "# for finding euclidean distance using vectorization technique\n",
    "def eucld_dis_vect(c):\n",
    "    m = len(c)\n",
    "    v = np.zeros((m,m))\n",
    "    for i in range(m):\n",
    "        for j in range(m):\n",
    "            y = np.array(c[i])\n",
    "            z = np.array(c[j])\n",
    "            v[i][j] = np.linalg.norm(y-z)\n",
    "    return v\n",
    "\n",
    "\n",
    "# for printing symmetric matrix\n",
    "def print_matrix(m):\n",
    "    for r in m:\n",
    "        for c in r:\n",
    "            print(c,end = \" \")\n",
    "        print()\n",
    "    return 0\n",
    "\n",
    "\n",
    "# checking the time complexity of the both techniques\n",
    "import numpy as np\n",
    "import math as mt\n",
    "\n",
    "x = np.random.normal(size=(100,50))\n",
    "\n",
    "print('Using traditional looping technique.')\n",
    "e = eucld_dis_loops(x)\n",
    "%timeit e = eucld_dis_loops(x)\n",
    "#print_matrix(e)\n",
    "\n",
    "print('\\n')\n",
    "print('Using vectorizational technique.')\n",
    "e = eucld_dis_vect(x)\n",
    "%timeit e = eucld_dis_vect(x)\n",
    "#print_matrix(e)\n",
    "\n",
    "        \n"
   ]
  },
  {
   "cell_type": "code",
   "execution_count": null,
   "metadata": {},
   "outputs": [],
   "source": []
  },
  {
   "cell_type": "code",
   "execution_count": null,
   "metadata": {},
   "outputs": [],
   "source": []
  },
  {
   "cell_type": "code",
   "execution_count": null,
   "metadata": {},
   "outputs": [],
   "source": []
  }
 ],
 "metadata": {
  "kernelspec": {
   "display_name": "Python 3",
   "language": "python",
   "name": "python3"
  },
  "language_info": {
   "codemirror_mode": {
    "name": "ipython",
    "version": 3
   },
   "file_extension": ".py",
   "mimetype": "text/x-python",
   "name": "python",
   "nbconvert_exporter": "python",
   "pygments_lexer": "ipython3",
   "version": "3.7.4"
  }
 },
 "nbformat": 4,
 "nbformat_minor": 2
}
