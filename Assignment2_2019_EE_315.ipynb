{
  "nbformat": 4,
  "nbformat_minor": 0,
  "metadata": {
    "colab": {
      "provenance": [],
      "collapsed_sections": []
    },
    "kernelspec": {
      "name": "python3",
      "display_name": "Python 3"
    },
    "language_info": {
      "name": "python"
    }
  },
  "cells": [
    {
      "cell_type": "markdown",
      "source": [
        "### **Problem 2.1:**\n",
        "\n",
        "Use Ridge regression to solve the regression problem in Example 2.1 as well as the classification problem in Example 2.2, also implement both closed-form and iterative approachs, compare the results of Ridge regression with those of linear regression."
      ],
      "metadata": {
        "id": "qhQBVfTROf1F"
      }
    },
    {
      "cell_type": "markdown",
      "source": [
        "### **Ridge Regression on Example 2.1 (regression problem) using closed form solution**\n"
      ],
      "metadata": {
        "id": "xruZmkvyOmu7"
      }
    },
    {
      "cell_type": "markdown",
      "source": [
        "When L2 norm regularization is used for linear regression, it leads to\n",
        "the so-called ridge regression in statistics. With the help of L2 regular\u0002ization, ridge regression is particularly useful for deriving more reliable\n",
        "estimates when the number of model parameters is large.\n",
        "Using the ridge regression closed-form solution, we have:\n",
        "\n",
        "![ridge_closed.png](data:image/png;base64,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)"
      ],
      "metadata": {
        "id": "prasBKPfj4X1"
      }
    },
    {
      "cell_type": "code",
      "source": [
        "# linking to drive\n",
        "from google.colab import drive\n",
        "drive.mount('/content/drive')"
      ],
      "metadata": {
        "colab": {
          "base_uri": "https://localhost:8080/"
        },
        "id": "zn7UkmjtOlQf",
        "outputId": "1dc5e535-6700-4eca-d8ce-a2bad1ec319a"
      },
      "execution_count": null,
      "outputs": [
        {
          "output_type": "stream",
          "name": "stdout",
          "text": [
            "Mounted at /content/drive\n"
          ]
        }
      ]
    },
    {
      "cell_type": "code",
      "source": [
        "# loading data set\n",
        "import pandas as pd\n",
        "import numpy as np\n",
        "\n",
        "raw_data = pd.read_csv('/content/drive/My Drive/Colab Notebooks/datasets/boston.csv', header=None)\n",
        "data_rows = np.reshape(raw_data.to_numpy(), (506,14))\n",
        "data = data_rows[:,:13]\n",
        "target = data_rows[:,13]\n",
        "\n",
        "# normalizing the data \n",
        "data = (data-np.mean(data, axis=0))/np.std(data, axis=0) \n",
        "\n",
        "print(data.shape)\n",
        "print(target.shape)"
      ],
      "metadata": {
        "colab": {
          "base_uri": "https://localhost:8080/"
        },
        "id": "hQ_kIMlaRxcj",
        "outputId": "93ae3e1a-13d7-41d8-903e-05f79f5a6626"
      },
      "execution_count": null,
      "outputs": [
        {
          "output_type": "stream",
          "name": "stdout",
          "text": [
            "(506, 13)\n",
            "(506,)\n"
          ]
        }
      ]
    },
    {
      "cell_type": "code",
      "source": [
        "# add a constant column of '1' to accomodate the bias \n",
        "data_wb = np.hstack((data, np.ones((data.shape[0], 1), dtype=data.dtype)))\n",
        "print(data_wb.shape)\n",
        "\n",
        "# choosing alpha on hit and trail basis \n",
        "alpha = 0.5 \n",
        "I = np.identity(data_wb.shape[1])\n",
        "I[0,0] = 0\n",
        "penalty1 = alpha*I\n",
        "\n",
        "# refer to the closed-form solution using ridge regression \n",
        "w = np.linalg.inv(data_wb.T @ data_wb + penalty1) @ data_wb.T @ target\n",
        "\n",
        "# calculate the mean square error in the training set\n",
        "predict = data_wb @ w \n",
        "error = np.sum((predict - target)*(predict - target))/data.shape[0]\n",
        "\n",
        "print(f'mean square error for the closed-form solution: {error:.3f}')"
      ],
      "metadata": {
        "colab": {
          "base_uri": "https://localhost:8080/"
        },
        "id": "EUkt94siR5ai",
        "outputId": "5ceeadb5-8440-4cab-8e7b-b3cdaeaa5752"
      },
      "execution_count": null,
      "outputs": [
        {
          "output_type": "stream",
          "name": "stdout",
          "text": [
            "(506, 14)\n",
            "mean square error for the closed-form solution: 21.896\n"
          ]
        }
      ]
    },
    {
      "cell_type": "markdown",
      "source": [
        "### **Ridge Regression on Example 2.1 (regression problem) using using iterative gradient descent method**"
      ],
      "metadata": {
        "id": "vaFuaGBzO-XE"
      }
    },
    {
      "cell_type": "code",
      "source": [
        "# solve ridge regression using gradient descent \n",
        "import numpy as np\n",
        "\n",
        "\n",
        "class Optimizer():\n",
        "  def __init__(self, rr, annealing_rate, batch_size, max_epochs):\n",
        "    self.rr = rr\n",
        "    self.annealing_rate = annealing_rate\n",
        "    self.batch_size = batch_size\n",
        "    self.max_epochs = max_epochs\n",
        "\n",
        "\n",
        "def ridge_regression_gd(X, y, op):\n",
        "  n = X.shape[0]   # number of samples\n",
        "  w = np.zeros(X.shape[1])  # initialization\n",
        "\n",
        "  rr = op.rr\n",
        "  errors = np.zeros(op.max_epochs)\n",
        "  for epoch in range(op.max_epochs):\n",
        "    indices = np.random.permutation(n)  #randomly shuffle data indices\n",
        "    for batch_start in range(0, n, op.batch_size):\n",
        "      X_batch = X[indices[batch_start:batch_start + op.batch_size]]\n",
        "      y_batch = y[indices[batch_start:batch_start + op.batch_size]]\n",
        "\n",
        "      # vectorization to compute gradients for a whole mini-batch (see the above formula)\n",
        "      w_grad = X_batch.T @ X_batch @ w + penalty1 @ w - X_batch.T @ y_batch \n",
        "\n",
        "      w -= rr * w_grad / X_batch.shape[0]\n",
        "\n",
        "    diff = X @ w - y  # prediction difference\n",
        "    errors[epoch] = np.sum(diff*diff)/n\n",
        "    rr *= op.annealing_rate\n",
        "\n",
        "  return w, errors"
      ],
      "metadata": {
        "id": "VkU3wf_RPHek"
      },
      "execution_count": null,
      "outputs": []
    },
    {
      "cell_type": "code",
      "source": [
        "import matplotlib.pyplot as plt\n",
        "\n",
        "op = Optimizer(rr=0.01, annealing_rate=0.99, batch_size=20, max_epochs=100)\n",
        "\n",
        "w, errors = ridge_regression_gd(data_wb, target, op)\n",
        "\n",
        "plt.title('A larger mini-batch; converging smoothly but still a gap')\n",
        "plt.xlabel('number of epoches')\n",
        "plt.plot(errors, 'b', 21.89*np.ones(errors.shape[0]), 'c--')\n",
        "plt.legend(['gradient descent', 'closed-form solution'])"
      ],
      "metadata": {
        "colab": {
          "base_uri": "https://localhost:8080/",
          "height": 312
        },
        "id": "drMqeb3LTJ6y",
        "outputId": "9155697f-5b6b-457b-d3d6-002c22a210f3"
      },
      "execution_count": null,
      "outputs": [
        {
          "output_type": "execute_result",
          "data": {
            "text/plain": [
              "<matplotlib.legend.Legend at 0x7f7ff72df610>"
            ]
          },
          "metadata": {},
          "execution_count": 19
        },
        {
          "output_type": "display_data",
          "data": {
            "text/plain": [
              "<Figure size 432x288 with 1 Axes>"
            ],
            "image/png": "[encoded data removed]"
          },
          "metadata": {
            "needs_background": "light"
          }
        }
      ]
    },
    {
      "cell_type": "markdown",
      "source": [
        "By using scikit learning, "
      ],
      "metadata": {
        "id": "VBbCgaIq11q5"
      }
    },
    {
      "cell_type": "code",
      "source": [
        "import numpy as np\n",
        "from sklearn import linear_model\n",
        "from sklearn.metrics import mean_squared_error\n",
        "\n",
        "# Create ridge regression object\n",
        "ridge_regr = linear_model.Ridge()\n",
        "\n",
        "# Train the model using the training set\n",
        "ridge_regr.fit(data_wb, target)\n",
        "\n",
        "# Make predictions using the same training set\n",
        "predict = ridge_regr.predict(data_wb)\n",
        "\n",
        "# The mean squared error\n",
        "print(\"Mean squared error: %.5f\" % mean_squared_error(target, predict))"
      ],
      "metadata": {
        "colab": {
          "base_uri": "https://localhost:8080/"
        },
        "id": "1sUksp7917ed",
        "outputId": "aa70fd1e-34f9-43e9-9e60-d737baad6763"
      },
      "execution_count": null,
      "outputs": [
        {
          "output_type": "stream",
          "name": "stdout",
          "text": [
            "Mean squared error: 21.89586\n"
          ]
        }
      ]
    },
    {
      "cell_type": "markdown",
      "source": [
        "### **Ridge Regression on Example 2.2 (classification problem) using closed form solution**"
      ],
      "metadata": {
        "id": "s8Vg-NKBPJPU"
      }
    },
    {
      "cell_type": "code",
      "source": [
        "# install idx2numpy\n",
        "\n",
        "!pip install idx2numpy"
      ],
      "metadata": {
        "colab": {
          "base_uri": "https://localhost:8080/"
        },
        "id": "9N37w-gBPRWU",
        "outputId": "673dd1dc-015f-484b-b876-dbd89f75d0f8"
      },
      "execution_count": null,
      "outputs": [
        {
          "output_type": "stream",
          "name": "stdout",
          "text": [
            "Looking in indexes: https://pypi.org/simple, https://us-python.pkg.dev/colab-wheels/public/simple/\n",
            "Collecting idx2numpy\n",
            "  Downloading idx2numpy-1.2.3.tar.gz (6.8 kB)\n",
            "Requirement already satisfied: numpy in /usr/local/lib/python3.7/dist-packages (from idx2numpy) (1.21.6)\n",
            "Requirement already satisfied: six in /usr/local/lib/python3.7/dist-packages (from idx2numpy) (1.15.0)\n",
            "Building wheels for collected packages: idx2numpy\n",
            "  Building wheel for idx2numpy (setup.py) ... \u001b[?25l\u001b[?25hdone\n",
            "  Created wheel for idx2numpy: filename=idx2numpy-1.2.3-py3-none-any.whl size=7917 sha256=720f4f7666c94e613975d7110cfeac492462c71de1748e344a68b6d307d4c309\n",
            "  Stored in directory: /root/.cache/pip/wheels/1a/ce/ad/d5e95a35cfe34149aade5e500f2edd535c0566d79e9a8e1d8a\n",
            "Successfully built idx2numpy\n",
            "Installing collected packages: idx2numpy\n",
            "Successfully installed idx2numpy-1.2.3\n"
          ]
        }
      ]
    },
    {
      "cell_type": "code",
      "source": [
        "import idx2numpy\n",
        "import numpy as np\n",
        "\n",
        "train_data = idx2numpy.convert_from_file('/content/drive/My Drive/Colab Notebooks/datasets/MNIST/train-images.idx3-ubyte')\n",
        "train_data = np.reshape(train_data,(60000,28*28))\n",
        "train_label = idx2numpy.convert_from_file('/content/drive/My Drive/Colab Notebooks/datasets/MNIST/train-labels.idx1-ubyte')\n",
        "test_data=idx2numpy.convert_from_file('/content/drive/My Drive/Colab Notebooks/datasets/MNIST/t10k-images.idx3-ubyte')\n",
        "test_data = np.reshape(test_data,(10000,28*28))\n",
        "test_label = idx2numpy.convert_from_file('/content/drive/My Drive/Colab Notebooks/datasets/MNIST/t10k-labels.idx1-ubyte') \n",
        "train_data = np.array(train_data, dtype='float')/255 # norm to [0,1]\n",
        "train_label = np.array(train_label, dtype='short')\n",
        "test_data = np.array(test_data, dtype='float')/255 # norm to [0,1]\n",
        "test_label = np.array(test_label, dtype='short')\n",
        "\n",
        "#add small random noise to avoid matrix singularity\n",
        "train_data += np.random.normal(0,0.0001,train_data.shape) \n",
        "\n",
        "print(train_data.shape, train_label.shape, test_data.shape, test_label.shape)"
      ],
      "metadata": {
        "colab": {
          "base_uri": "https://localhost:8080/"
        },
        "id": "Q3y06C1fSH7T",
        "outputId": "783e57de-5d21-4239-f000-34e48b8503cc"
      },
      "execution_count": null,
      "outputs": [
        {
          "output_type": "stream",
          "name": "stdout",
          "text": [
            "(60000, 784) (60000,) (10000, 784) (10000,)\n"
          ]
        }
      ]
    },
    {
      "cell_type": "code",
      "source": [
        "# prepare digits '3' and '8' for linear regression\n",
        "\n",
        "digit_train_index = np.logical_or(train_label == 3, train_label == 8)\n",
        "X_train = train_data[digit_train_index]\n",
        "y_train = train_label[digit_train_index]\n",
        "digit_test_index = np.logical_or(test_label == 3, test_label == 8)\n",
        "X_test = test_data[digit_test_index]\n",
        "y_test = test_label[digit_test_index]\n",
        "\n",
        "# add a constant column of '1' to accomodate the bias (see the margin note on page 107)\n",
        "X_train = np.hstack((X_train, np.ones((X_train.shape[0], 1), dtype=X_train.dtype)))\n",
        "X_test = np.hstack((X_test, np.ones((X_test.shape[0], 1), dtype=X_test.dtype)))\n",
        "\n",
        "# convert labels: '3' => -1, '8' => +1\n",
        "CUTOFF = 5 # any number between '3' and '8'\n",
        "y_train = np.sign(y_train-CUTOFF)\n",
        "y_test = np.sign(y_test-CUTOFF)\n",
        "\n",
        "print(X_train.shape)\n",
        "print(y_train)\n",
        "\n",
        "print(X_test.shape)\n",
        "print(y_test)"
      ],
      "metadata": {
        "id": "T4NQfRYGSKc8",
        "colab": {
          "base_uri": "https://localhost:8080/"
        },
        "outputId": "e8ae6e2c-48ae-4402-9833-cb6a570e99fc"
      },
      "execution_count": null,
      "outputs": [
        {
          "output_type": "stream",
          "name": "stdout",
          "text": [
            "(11982, 785)\n",
            "[-1 -1 -1 ...  1 -1  1]\n",
            "(1984, 785)\n",
            "[-1 -1 -1 ... -1  1 -1]\n"
          ]
        }
      ]
    },
    {
      "cell_type": "code",
      "source": [
        "# use the closed-form solution by ridge regression \n",
        "\n",
        "# choosing alpha on hit and trial basis\n",
        "alpha = 0.1\n",
        "I = np.identity(X_train.shape[1])\n",
        "I[0,0] = 0\n",
        "penalty2 = alpha*I\n",
        "\n",
        "# refer to the closed-form solution, i.e. Eq.(6.9) on page 112\n",
        "w = np.linalg.inv(X_train.T @ X_train + penalty2) @ X_train.T @ y_train\n",
        "\n",
        "# calculate the mean square error and classification accuracy on the training set\n",
        "predict = X_train @ w \n",
        "error = np.sum((predict - y_train)*(predict - y_train))/X_train.shape[0]\n",
        "print(f'mean square error on training data for the closed-form solution: {error:.5f}')\n",
        "\n",
        "accuracy = np.count_nonzero(np.equal(np.sign(predict),y_train))/y_train.size*100.0\n",
        "print(f'classification accuracy on training data for the closed-form solution: {accuracy:.2f}%')\n",
        "\n",
        "# calculate the mean square error and classification accuracy on the test set\n",
        "predict = X_test @ w \n",
        "error = np.sum((predict - y_test)*(predict - y_test))/X_test.shape[0]\n",
        "print(f'mean square error on test data for the closed-form solution: {error:.5f}')\n",
        "\n",
        "accuracy = np.count_nonzero(np.equal(np.sign(predict),y_test))/y_test.size*100.0\n",
        "print(f'classification accuracy on test data for the closed-form solution: {accuracy:.2f}%')"
      ],
      "metadata": {
        "id": "Vm-GzrYcSPqk",
        "colab": {
          "base_uri": "https://localhost:8080/"
        },
        "outputId": "829d4994-b57d-4444-dffb-b17e4704629f"
      },
      "execution_count": null,
      "outputs": [
        {
          "output_type": "stream",
          "name": "stdout",
          "text": [
            "mean square error on training data for the closed-form solution: 0.19931\n",
            "classification accuracy on training data for the closed-form solution: 96.85%\n",
            "mean square error on test data for the closed-form solution: 0.22425\n",
            "classification accuracy on test data for the closed-form solution: 95.97%\n"
          ]
        }
      ]
    },
    {
      "cell_type": "markdown",
      "source": [
        "### **Ridge Regression on Example 2.2 (classification problem) using gradient descent method**"
      ],
      "metadata": {
        "id": "x5lxproPPRnM"
      }
    },
    {
      "cell_type": "code",
      "source": [
        "# solve ridge regression using gradient descent \n",
        "import numpy as np\n",
        "\n",
        "class Optimizer():\n",
        "  def __init__(self, ridge_r, annealing_rate, batch_size, max_epochs):\n",
        "    self.ridge_r = ridge_r\n",
        "    self.annealing_rate = annealing_rate\n",
        "    self.batch_size = batch_size\n",
        "    self.max_epochs = max_epochs\n",
        "\n",
        "def ridge_regression_gd2(X, y, X2, y2, op):\n",
        "  n = X.shape[0]   # number of samples\n",
        "  w = np.zeros(X.shape[1])  # initialization\n",
        "\n",
        "  ridge_r = op.ridge_r\n",
        "  errorsA = np.zeros(op.max_epochs)\n",
        "  errorsB = np.zeros(op.max_epochs)\n",
        "  errorsC = np.zeros(op.max_epochs)\n",
        "\n",
        "  for epoch in range(op.max_epochs):\n",
        "    indices = np.random.permutation(n)  #randomly shuffle data indices\n",
        "    for batch_start in range(0, n, op.batch_size):\n",
        "      X_batch = X[indices[batch_start:batch_start + op.batch_size]]\n",
        "      y_batch = y[indices[batch_start:batch_start + op.batch_size]]\n",
        "\n",
        "      # vectorization to compute gradients for a whole mini-batch (see the above formula)\n",
        "      w_grad = X_batch.T @ X_batch @ w + penalty2 @ w - X_batch.T @ y_batch \n",
        "\n",
        "      w -= ridge_r * w_grad / X_batch.shape[0] \n",
        "\n",
        "    # for learning curve C\n",
        "    diff = X @ w - y  # prediction difference\n",
        "    errorsC[epoch] = np.sum(diff*diff)/n   \n",
        "\n",
        "    # for learning curve A\n",
        "    predict = np.sign(X @ w)\n",
        "    errorsA[epoch] = np.count_nonzero(np.equal(predict,y))/y.size \n",
        "\n",
        "    # for learning curve B\n",
        "    predict2 = np.sign(X2 @ w)\n",
        "    errorsB[epoch] = np.count_nonzero(np.equal(predict2,y2))/y2.size\n",
        "\n",
        "    ridge_r *= op.annealing_rate\n",
        "    print(f'epoch={epoch}: the mean square error is {errorsC[epoch]:.3f} ({errorsA[epoch]:.3f},{errorsB[epoch]:.3f})')\n",
        "\n",
        "  return w, errorsA, errorsB, errorsC"
      ],
      "metadata": {
        "id": "h8DIbW4MPWb0"
      },
      "execution_count": null,
      "outputs": []
    },
    {
      "cell_type": "code",
      "source": [
        "import matplotlib.pyplot as plt\n",
        "\n",
        "op = Optimizer(ridge_r=0.001, annealing_rate=0.99, batch_size=50, max_epochs=20)\n",
        "\n",
        "w, A, B, C = ridge_regression_gd2(X_train, y_train, X_test, y_test, op)\n",
        "\n",
        "fig, ax = plt.subplots(2)\n",
        "fig.suptitle('monitoring three learning curves (A, B, C)')\n",
        "ax[0].plot(C, 'b', 0.196*np.ones(C.shape[0]), 'c--')\n",
        "ax[0].legend(['curve C', 'closed-form solution'])\n",
        "\n",
        "ax[1].plot(A, 'b', B, 'r')\n",
        "ax[1].legend(['curve A', 'curve B'])"
      ],
      "metadata": {
        "id": "eoUFki92Skbb",
        "colab": {
          "base_uri": "https://localhost:8080/",
          "height": 658
        },
        "outputId": "caf7f909-0a49-448b-da49-c9497b07bd71"
      },
      "execution_count": null,
      "outputs": [
        {
          "output_type": "stream",
          "name": "stdout",
          "text": [
            "epoch=0: the mean square error is 0.398 (0.911,0.920)\n",
            "epoch=1: the mean square error is 0.309 (0.929,0.942)\n",
            "epoch=2: the mean square error is 0.279 (0.939,0.951)\n",
            "epoch=3: the mean square error is 0.264 (0.945,0.956)\n",
            "epoch=4: the mean square error is 0.254 (0.949,0.959)\n",
            "epoch=5: the mean square error is 0.248 (0.951,0.961)\n",
            "epoch=6: the mean square error is 0.243 (0.953,0.963)\n",
            "epoch=7: the mean square error is 0.241 (0.954,0.964)\n",
            "epoch=8: the mean square error is 0.238 (0.955,0.963)\n",
            "epoch=9: the mean square error is 0.235 (0.956,0.964)\n",
            "epoch=10: the mean square error is 0.234 (0.957,0.964)\n",
            "epoch=11: the mean square error is 0.232 (0.957,0.964)\n",
            "epoch=12: the mean square error is 0.231 (0.958,0.964)\n",
            "epoch=13: the mean square error is 0.230 (0.958,0.965)\n",
            "epoch=14: the mean square error is 0.229 (0.959,0.964)\n",
            "epoch=15: the mean square error is 0.228 (0.959,0.963)\n",
            "epoch=16: the mean square error is 0.227 (0.960,0.964)\n",
            "epoch=17: the mean square error is 0.226 (0.960,0.964)\n",
            "epoch=18: the mean square error is 0.225 (0.960,0.963)\n",
            "epoch=19: the mean square error is 0.225 (0.960,0.965)\n"
          ]
        },
        {
          "output_type": "execute_result",
          "data": {
            "text/plain": [
              "<matplotlib.legend.Legend at 0x7f8025f19610>"
            ]
          },
          "metadata": {},
          "execution_count": 12
        },
        {
          "output_type": "display_data",
          "data": {
            "text/plain": [
              "<Figure size 432x288 with 2 Axes>"
            ],
            "image/png": "[encoded data removed]"
          },
          "metadata": {
            "needs_background": "light"
          }
        }
      ]
    },
    {
      "cell_type": "code",
      "source": [
        "# use ridge regression from sklearn\n",
        "\n",
        "import numpy as np\n",
        "from sklearn import linear_model\n",
        "from sklearn.metrics import mean_squared_error\n",
        "\n",
        "# Create linear regression object\n",
        "l_regr = linear_model.Ridge()\n",
        "\n",
        "# Train the model using the training set\n",
        "l_regr.fit(X_train, y_train)\n",
        "\n",
        "# Make predictions using the same training set\n",
        "predict = l_regr.predict(X_train)\n",
        "print(\"Mean squared error on training data: %.5f\" % mean_squared_error(y_train, predict))\n",
        "\n",
        "# Make predictions using the test set\n",
        "predict = l_regr.predict(X_test)\n",
        "print(\"Mean squared error on test data: %.5f\" % mean_squared_error(y_test, predict))"
      ],
      "metadata": {
        "id": "ji1AFSy5Lk55",
        "colab": {
          "base_uri": "https://localhost:8080/"
        },
        "outputId": "d7683b88-ef6c-42bc-da83-c1006473b6f1"
      },
      "execution_count": null,
      "outputs": [
        {
          "output_type": "stream",
          "name": "stdout",
          "text": [
            "Mean squared error on training data: 0.20013\n",
            "Mean squared error on test data: 0.22015\n"
          ]
        }
      ]
    },
    {
      "cell_type": "markdown",
      "source": [
        "### **Problem 2.2:**\n",
        "\n",
        "Use LASSO to solve the regression problem in Example 2.1 as well as the classification problem in Example 2.2, compare the results of LASSO with those of linear regression and Ridge regression."
      ],
      "metadata": {
        "id": "6a-LwA1qPzp8"
      }
    },
    {
      "cell_type": "markdown",
      "source": [
        "\n",
        "### **LASSO Regression on Example 2.1 (regression problem) using closed form solution**"
      ],
      "metadata": {
        "id": "vVZ5PSttP1Yb"
      }
    },
    {
      "cell_type": "markdown",
      "source": [
        "As LASSO is a L1 regularization technique where the model is penalized for the sum of absolute values of the weights and hence a non-differentiable function. So, in general it has no closed-form solution."
      ],
      "metadata": {
        "id": "pkeOlps5f01G"
      }
    },
    {
      "cell_type": "markdown",
      "source": [
        "###**LASSO regression on Problem 1 using sci-kit learn**"
      ],
      "metadata": {
        "id": "pwrlDbRitCSc"
      }
    },
    {
      "cell_type": "code",
      "source": [
        "import numpy as np\n",
        "from sklearn import linear_model\n",
        "from sklearn.metrics import mean_squared_error\n",
        "\n",
        "# Create ridge regression object\n",
        "lasso_regr = linear_model.Lasso()\n",
        "\n",
        "# Train the model using the training set\n",
        "lasso_regr.fit(data_wb, target)\n",
        "\n",
        "# Make predictions using the same training set\n",
        "predict = lasso_regr.predict(data_wb)\n",
        "\n",
        "# The mean squared error\n",
        "print(\"Mean squared error: %.5f\" % mean_squared_error(target, predict))"
      ],
      "metadata": {
        "colab": {
          "base_uri": "https://localhost:8080/"
        },
        "id": "-H_vLBQAtTha",
        "outputId": "f064b874-b2aa-487c-f6fb-1a284dfdd539"
      },
      "execution_count": null,
      "outputs": [
        {
          "output_type": "stream",
          "name": "stdout",
          "text": [
            "Mean squared error: 28.46465\n"
          ]
        }
      ]
    },
    {
      "cell_type": "markdown",
      "source": [
        "### **LASSO Regression on Problem 2 using sci-kit learn**"
      ],
      "metadata": {
        "id": "sh2-RnjQrNKv"
      }
    },
    {
      "cell_type": "code",
      "source": [
        "# use LASSO regression from sklearn\n",
        "\n",
        "import numpy as np\n",
        "from sklearn import linear_model\n",
        "from sklearn.metrics import mean_squared_error\n",
        "\n",
        "# Create linear regression object\n",
        "l_regr = linear_model.Lasso()\n",
        "\n",
        "# Train the model using the training set\n",
        "l_regr.fit(X_train, y_train)\n",
        "\n",
        "# Make predictions using the same training set\n",
        "predict = l_regr.predict(X_train)\n",
        "print(\"Mean squared error on training data: %.5f\" % mean_squared_error(y_train, predict))\n",
        "\n",
        "# Make predictions using the test set\n",
        "predict = l_regr.predict(X_test)\n",
        "print(\"Mean squared error on test data: %.5f\" % mean_squared_error(y_test, predict))"
      ],
      "metadata": {
        "colab": {
          "base_uri": "https://localhost:8080/"
        },
        "id": "QFDzdznBrNis",
        "outputId": "36443611-3460-4aca-e31d-ae406ca5e7be"
      },
      "execution_count": null,
      "outputs": [
        {
          "output_type": "stream",
          "name": "stdout",
          "text": [
            "Mean squared error on training data: 0.99945\n",
            "Mean squared error on test data: 0.99970\n"
          ]
        }
      ]
    },
    {
      "cell_type": "markdown",
      "source": [
        "### **Conclusion**\n",
        "Linear regression is the most basic form, where the model is not penalized for its choice of weights, at all. That means, during the training stage, if the model feels like one particular feature is particularly important, the model may place a large weight to the feature. This sometimes leads to overfitting in small datasets.\n",
        "\n",
        "Lasso is a modification of linear regression, where the model is penalized for the sum of absolute values of the weights. Thus, the absolute values of weight will be (in general) reduced, and many will tend to be zeros. During training, the objective function become.\n",
        "\n",
        "Ridge takes a step further and penalizes the model for the sum of squared value of the weights. Thus, the weights not only tend to have smaller absolute values, but also really tend to penalize the extremes of the weights, resulting in a group of weights that are more evenly distributed. "
      ],
      "metadata": {
        "id": "hz2hoNynxXzZ"
      }
    }
  ]
}